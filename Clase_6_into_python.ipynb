{
  "nbformat": 4,
  "nbformat_minor": 0,
  "metadata": {
    "colab": {
      "name": "Clase_6_into_python.ipynb",
      "provenance": [],
      "authorship_tag": "ABX9TyMgiTtqwIjqLgD44oiyCi2k",
      "include_colab_link": true
    },
    "kernelspec": {
      "name": "python3",
      "display_name": "Python 3"
    },
    "language_info": {
      "name": "python"
    }
  },
  "cells": [
    {
      "cell_type": "markdown",
      "metadata": {
        "id": "view-in-github",
        "colab_type": "text"
      },
      "source": [
        "<a href=\"https://colab.research.google.com/github/789123456kirby/gb16g01_20221/blob/main/Clase_6_into_python.ipynb\" target=\"_parent\"><img src=\"https://colab.research.google.com/assets/colab-badge.svg\" alt=\"Open In Colab\"/></a>"
      ]
    },
    {
      "cell_type": "markdown",
      "source": [
        "#BIOINFORMATICA\n",
        "## calse 6 : introduccion a python \n",
        "\n",
        "en est clase revisaremos los siguientes contenidos \n",
        "\n",
        "\n",
        "1. Historia de python \n",
        "2. tipos de datos \n",
        "3. operaciones con numeros \n",
        "4. operaciones con texto \n",
        "\n",
        "##1: Historia Pyhton \n",
        "La histori de python se puede leer en [python](https://docs.python.org/3/)\n"
      ],
      "metadata": {
        "id": "nUV_qO0Dyc7K"
      }
    },
    {
      "cell_type": "markdown",
      "source": [
        "##2.Tipos de datos \n",
        "- Numericos : enteros(integer,int), decimales(double) , complejos(complex)\n",
        "- Logicos: verdadero (TRUE, T), Falso(false,f) \n",
        "- Texto:cadena de caacteres \"siempre en comillas\" \n"
      ],
      "metadata": {
        "id": "ybWbHa2T1FA4"
      }
    },
    {
      "cell_type": "code",
      "execution_count": 2,
      "metadata": {
        "id": "Oieb9VDixgsJ"
      },
      "outputs": [],
      "source": [
        " gen1_r = 1.5\n",
        " gen1_h = 1.7\n",
        " dif_gen1 = gen1_r - gen1_h\n",
        " ratio_gen1= gen1_r / gen1_h\n",
        " \n",
        " "
      ]
    },
    {
      "cell_type": "code",
      "source": [
        "print(\"gen1_h\", gen1_h)\n",
        "print(\"gen1_r\", gen1_r)\n",
        "print(\"dif_gen1\", dif_gen1)\n",
        "print(\"ratop_gen1\", ratio_gen1)"
      ],
      "metadata": {
        "colab": {
          "base_uri": "https://localhost:8080/"
        },
        "id": "skz2nhLq6ZSI",
        "outputId": "15d11a03-d9fe-4c94-9278-15afb9884b9a"
      },
      "execution_count": 6,
      "outputs": [
        {
          "output_type": "stream",
          "name": "stdout",
          "text": [
            "gen1_h 1.7\n",
            "gen1_r 1.5\n",
            "dif_gen1 -0.19999999999999996\n",
            "ratop_gen1 0.8823529411764706\n"
          ]
        }
      ]
    },
    {
      "cell_type": "code",
      "source": [
        "Saludo = \"hola con todxs, que bueno que no hay examen\"\n",
        "Saludo.upper()"
      ],
      "metadata": {
        "colab": {
          "base_uri": "https://localhost:8080/",
          "height": 35
        },
        "id": "sUISPRVh8frB",
        "outputId": "d97a0183-a65d-40a7-fff2-d3b55b1cb0c6"
      },
      "execution_count": 10,
      "outputs": [
        {
          "output_type": "execute_result",
          "data": {
            "text/plain": [
              "'HOLA CON TODXS, QUE BUENO QUE NO HAY EXAMEN'"
            ],
            "application/vnd.google.colaboratory.intrinsic+json": {
              "type": "string"
            }
          },
          "metadata": {},
          "execution_count": 10
        }
      ]
    },
    {
      "cell_type": "code",
      "source": [
        "len(Saludo)"
      ],
      "metadata": {
        "colab": {
          "base_uri": "https://localhost:8080/"
        },
        "id": "FXk5jiLd93uC",
        "outputId": "0d6e0e24-f5b1-4453-c3dd-c52f7e2715cb"
      },
      "execution_count": 13,
      "outputs": [
        {
          "output_type": "execute_result",
          "data": {
            "text/plain": [
              "43"
            ]
          },
          "metadata": {},
          "execution_count": 13
        }
      ]
    },
    {
      "cell_type": "code",
      "source": [
        "# en este bloquese revisa el uso convinado de funciones \n",
        "total = len(Saludo)\n",
        "char_a = Saludo.count(\"a\")\n",
        "ratio_a= 100*char_a / total\n",
        "print(\"porsentaje de a:\", ratio_a)\n"
      ],
      "metadata": {
        "colab": {
          "base_uri": "https://localhost:8080/"
        },
        "id": "4zfgTX2m-wQ3",
        "outputId": "3b8946c6-0d3a-40cf-ea86-896f026f93e3"
      },
      "execution_count": 16,
      "outputs": [
        {
          "output_type": "stream",
          "name": "stdout",
          "text": [
            "porsentaje de a: 6.976744186046512\n"
          ]
        }
      ]
    },
    {
      "cell_type": "code",
      "source": [
        "round(ratio_a, 2)"
      ],
      "metadata": {
        "colab": {
          "base_uri": "https://localhost:8080/"
        },
        "id": "YXZYjUce_1c0",
        "outputId": "80c7b3c9-c964-48db-d637-9515c8502a33"
      },
      "execution_count": 17,
      "outputs": [
        {
          "output_type": "execute_result",
          "data": {
            "text/plain": [
              "6.98"
            ]
          },
          "metadata": {},
          "execution_count": 17
        }
      ]
    },
    {
      "cell_type": "markdown",
      "source": [
        "##porcentaje de GC\n",
        "calculas el porsentaje de contenido de G y C en la siguiete secuenci."
      ],
      "metadata": {
        "id": "O9YAjkTcAAOQ"
      }
    },
    {
      "cell_type": "code",
      "source": [
        "p53_l1 = \"TTCCTGGNCTGTAGGTAGCGACTACAGTTAGGGGGCACCTAGCATTCAGGCCCTCATCCTCCTCCTTCCCAGCAGGGTGTCACGCTTCTCCGAAGACTGGATGACTGCCATGGAGGAGTCACAGTCGGATATCAGCCTCGAGCTCCCTCTGAGCCAGGAGACATTTTCAGGCTTATGGAAACTACTTCCTCCAGAAGATATCCTGCCATC\""
      ],
      "metadata": {
        "id": "4ckXZQlUAQuP"
      },
      "execution_count": 90,
      "outputs": []
    },
    {
      "cell_type": "markdown",
      "source": [
        "Calcular el procentaje de G y C"
      ],
      "metadata": {
        "id": "f16D4XZbBhs4"
      }
    },
    {
      "cell_type": "code",
      "source": [
        "\n",
        "percent= 100*(p53_l1.count(\"G\") + p53_l1.count(\"C\"))/len(p53_l1)\n",
        "print(\"ponsentage GC en p53_l1\", round(percent, 3))\n",
        "\n"
      ],
      "metadata": {
        "colab": {
          "base_uri": "https://localhost:8080/"
        },
        "id": "cHvtc-bfBmvM",
        "outputId": "a7c22f2e-1555-4c1c-83e9-ac2c0438652f"
      },
      "execution_count": 31,
      "outputs": [
        {
          "output_type": "stream",
          "name": "stdout",
          "text": [
            "ponsentage GC en p53_l1 57.143\n"
          ]
        }
      ]
    },
    {
      "cell_type": "code",
      "source": [
        "#sub conjunto \n",
        "print(p53_l1)\n",
        "fi = p53_l1.find(\"TAC\")\n",
        "FF1 = p53_l1.find(\"ATT\")\n",
        "ff2 = p53_l1.find(\"ATC\")\n",
        "ff3 = p53_l1.find(\"ACT\")\n"
      ],
      "metadata": {
        "colab": {
          "base_uri": "https://localhost:8080/"
        },
        "id": "QrvMXi0YMgbw",
        "outputId": "bf47f990-a06a-4da5-ead5-0c8934289aab"
      },
      "execution_count": 37,
      "outputs": [
        {
          "output_type": "stream",
          "name": "stdout",
          "text": [
            "TTCCTGGNCTGTAGGTAGCGACTACAGTTAGGGGGCACCTAGCATTCAGGCCCTCATCCTCCTCCTTCCC\n"
          ]
        }
      ]
    },
    {
      "cell_type": "code",
      "source": [
        "FF1"
      ],
      "metadata": {
        "colab": {
          "base_uri": "https://localhost:8080/"
        },
        "id": "x1lElu64Oz7c",
        "outputId": "33559670-2ac5-44a2-8d58-ded31757d9e7"
      },
      "execution_count": 99,
      "outputs": [
        {
          "output_type": "execute_result",
          "data": {
            "text/plain": [
              "43"
            ]
          },
          "metadata": {},
          "execution_count": 99
        }
      ]
    },
    {
      "cell_type": "code",
      "source": [
        "fi"
      ],
      "metadata": {
        "colab": {
          "base_uri": "https://localhost:8080/"
        },
        "id": "gz5IX_lVO7ck",
        "outputId": "6707c391-fcb0-4862-fe85-7754758c6e29"
      },
      "execution_count": 98,
      "outputs": [
        {
          "output_type": "execute_result",
          "data": {
            "text/plain": [
              "53"
            ]
          },
          "metadata": {},
          "execution_count": 98
        }
      ]
    },
    {
      "cell_type": "code",
      "source": [
        "p53_l1[3:6]"
      ],
      "metadata": {
        "colab": {
          "base_uri": "https://localhost:8080/",
          "height": 35
        },
        "id": "DH5m8oCNPERc",
        "outputId": "290d3079-438e-4622-8f42-d56f8c07cf4b"
      },
      "execution_count": 97,
      "outputs": [
        {
          "output_type": "execute_result",
          "data": {
            "text/plain": [
              "'CTG'"
            ],
            "application/vnd.google.colaboratory.intrinsic+json": {
              "type": "string"
            }
          },
          "metadata": {},
          "execution_count": 97
        }
      ]
    },
    {
      "cell_type": "code",
      "source": [
        "mRNA_f1 = p53_l1[fi:FF1+3]"
      ],
      "metadata": {
        "id": "8-BwecEWQiM4"
      },
      "execution_count": 96,
      "outputs": []
    },
    {
      "cell_type": "code",
      "source": [
        "mRNA_f1"
      ],
      "metadata": {
        "colab": {
          "base_uri": "https://localhost:8080/",
          "height": 35
        },
        "id": "99uJKRC6RNLG",
        "outputId": "8f9ef184-0bb8-4eee-8b9b-d431f67bc53e"
      },
      "execution_count": 95,
      "outputs": [
        {
          "output_type": "execute_result",
          "data": {
            "text/plain": [
              "'TACAGTTAGGGGGCACCTAGCATT'"
            ],
            "application/vnd.google.colaboratory.intrinsic+json": {
              "type": "string"
            }
          },
          "metadata": {},
          "execution_count": 95
        }
      ]
    },
    {
      "cell_type": "code",
      "source": [
        "##cadena complementaria\n",
        "print(Saludo)\n",
        "Saludo.replace(\"xs\",\"es\")"
      ],
      "metadata": {
        "colab": {
          "base_uri": "https://localhost:8080/",
          "height": 53
        },
        "id": "5LYJOTPaRozH",
        "outputId": "33be69f9-740c-4e08-f68c-3bd5df23664d"
      },
      "execution_count": 94,
      "outputs": [
        {
          "output_type": "stream",
          "name": "stdout",
          "text": [
            "hola con todxs, que bueno que no hay examen\n"
          ]
        },
        {
          "output_type": "execute_result",
          "data": {
            "text/plain": [
              "'hola con todes, que bueno que no hay examen'"
            ],
            "application/vnd.google.colaboratory.intrinsic+json": {
              "type": "string"
            }
          },
          "metadata": {},
          "execution_count": 94
        }
      ]
    },
    {
      "cell_type": "code",
      "source": [
        "p53_l1_a = p53_l1.replace(\"A\",\"t\")\n",
        "p53_t = p53_l1_a.replace(\"T\",\"a\")\n",
        "p53_g = p53_t.replace(\"G\", \"c\")\n",
        "p53_c = p53_g.replace(\"C\",\"g\")\n",
        "p53_l1c = p53_c.upper()\n",
        "p53_l1c"
      ],
      "metadata": {
        "colab": {
          "base_uri": "https://localhost:8080/",
          "height": 53
        },
        "id": "98BB0OpARrM2",
        "outputId": "3fcb43d4-cfea-4e47-f3c5-bdf45c5fd3c6"
      },
      "execution_count": 93,
      "outputs": [
        {
          "output_type": "execute_result",
          "data": {
            "text/plain": [
              "'AAGGACCNGACATCCATCGCTGATGTCAATCCCCCGTGGATCGTAAGTCCGGGAGTAGGAGGAGGAAGGGTCGTCCCACAGTGCGAAGAGGCTTCTGACCTACTGACGGTACCTCCTCAGTGTCAGCCTATAGTCGGAGCTCGAGGGAGACTCGGTCCTCTGTAAAAGTCCGAATACCTTTGATGAAGGAGGTCTTCTATAGGACGGTAG'"
            ],
            "application/vnd.google.colaboratory.intrinsic+json": {
              "type": "string"
            }
          },
          "metadata": {},
          "execution_count": 93
        }
      ]
    },
    {
      "cell_type": "code",
      "source": [
        "print(p53_l1)\n",
        "print(p53_l1c)"
      ],
      "metadata": {
        "colab": {
          "base_uri": "https://localhost:8080/"
        },
        "id": "wbvELcIEUX2b",
        "outputId": "8554e9cd-0d83-4c69-dfc2-10ea7352df51"
      },
      "execution_count": 92,
      "outputs": [
        {
          "output_type": "stream",
          "name": "stdout",
          "text": [
            "TTCCTGGNCTGTAGGTAGCGACTACAGTTAGGGGGCACCTAGCATTCAGGCCCTCATCCTCCTCCTTCCCAGCAGGGTGTCACGCTTCTCCGAAGACTGGATGACTGCCATGGAGGAGTCACAGTCGGATATCAGCCTCGAGCTCCCTCTGAGCCAGGAGACATTTTCAGGCTTATGGAAACTACTTCCTCCAGAAGATATCCTGCCATC\n",
            "AAGGACCNGACATCCATCGCTGATGTCAATCCCCCGTGGATCGTAAGTCCGGGAGTAGGAGGAGGAAGGG\n"
          ]
        }
      ]
    },
    {
      "cell_type": "code",
      "source": [
        "p53_l1c_r = p53_l1c[::-1]\n",
        "print(p53_l1)\n",
        "print(p53_l1c)\n",
        "print(p53_l1c_r)\n",
        "fir = p53_l1c_r.find(\"TAC\")\n",
        "fii1r = p53_l1c_r.find(\"ATC\")\n",
        "fii2r = p53_l1c_r.find(\"ACT\")\n",
        "fii3r = p53_l1c_r.find(\"ATT\")\n",
        "print(fir)\n",
        "print(fii1r)\n",
        "print(fii2r)\n",
        "print(fii3r)\n",
        "\n"
      ],
      "metadata": {
        "colab": {
          "base_uri": "https://localhost:8080/"
        },
        "id": "twnLDAs-VMTe",
        "outputId": "9c659075-e063-4d43-cf99-77b457a3a43c"
      },
      "execution_count": 103,
      "outputs": [
        {
          "output_type": "stream",
          "name": "stdout",
          "text": [
            "TTCCTGGNCTGTAGGTAGCGACTACAGTTAGGGGGCACCTAGCATTCAGGCCCTCATCCTCCTCCTTCCCAGCAGGGTGTCACGCTTCTCCGAAGACTGGATGACTGCCATGGAGGAGTCACAGTCGGATATCAGCCTCGAGCTCCCTCTGAGCCAGGAGACATTTTCAGGCTTATGGAAACTACTTCCTCCAGAAGATATCCTGCCATC\n",
            "AAGGACCNGACATCCATCGCTGATGTCAATCCCCCGTGGATCGTAAGTCCGGGAGTAGGAGGAGGAAGGGTCGTCCCACAGTGCGAAGAGGCTTCTGACCTACTGACGGTACCTCCTCAGTGTCAGCCTATAGTCGGAGCTCGAGGGAGACTCGGTCCTCTGTAAAAGTCCGAATACCTTTGATGAAGGAGGTCTTCTATAGGACGGTAG\n",
            "GATGGCAGGATATCTTCTGGAGGAAGTAGTTTCCATAAGCCTGAAAATGTCTCCTGGCTCAGAGGGAGCTCGAGGCTGATATCCGACTGTGACTCCTCCATGGCAGTCATCCAGTCTTCGGAGAAGCGTGACACCCTGCTGGGAAGGAGGAGGATGAGGGCCTGAATGCTAGGTGCCCCCTAACTGTAGTCGCTACCTACAGNCCAGGAA\n",
            "193\n",
            "11\n",
            "85\n",
            "-1\n"
          ]
        }
      ]
    }
  ]
}